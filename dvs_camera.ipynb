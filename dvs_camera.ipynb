{
 "cells": [
  {
   "cell_type": "code",
   "execution_count": 1,
   "metadata": {},
   "outputs": [],
   "source": [
    "import carla\n",
    "import random"
   ]
  },
  {
   "cell_type": "code",
   "execution_count": 2,
   "metadata": {},
   "outputs": [],
   "source": [
    "client = carla.Client('localhost', 2000)\n",
    "# client.load_world(\"Town05\")\n",
    "world = client.get_world()"
   ]
  },
  {
   "cell_type": "code",
   "execution_count": 3,
   "metadata": {},
   "outputs": [
    {
     "name": "stdout",
     "output_type": "stream",
     "text": [
      "Location(x=-172.196579, y=183.859116, z=27.638052) Rotation(pitch=0.000000, yaw=-45.592148, roll=0.000000)\n"
     ]
    }
   ],
   "source": [
    "# Retrieve the spectator object\n",
    "spectator = world.get_spectator()\n",
    "\n",
    "# Get the location and rotation of the spectator through its transform\n",
    "transform = spectator.get_transform()\n",
    "\n",
    "location = transform.location\n",
    "rotation = transform.rotation\n",
    "\n",
    "print(location, rotation)"
   ]
  },
  {
   "cell_type": "code",
   "execution_count": 4,
   "metadata": {},
   "outputs": [],
   "source": [
    "# Set the spectator to a position\n",
    "# Intersection 1\n",
    "spectator.set_transform(carla.Transform(carla.Location(x=-62.010975, y=1.288139, z=17.589510),carla.Rotation(pitch=-48.045647, yaw=53.329460, roll=0.000444)))\n",
    "# Intersection 2\n",
    "# spectator.set_transform(carla.Transform(carla.Location(x=123.813690, y=3.087291, z=18.886221),carla.Rotation(pitch=-27.611475, yaw=149.086655, roll=0.000053)))\n",
    "# Intersection 3\n",
    "# spectator.set_transform(carla.Transform(carla.Location(x=-62.647594, y=146.626755, z=9.927452),carla.Rotation(pitch=-20.047110, yaw=-45.562790, roll=0.000417)))\n",
    "# Intersection 4\n",
    "# spectator.set_transform(carla.Transform(carla.Location(x=-125.967690, y=-0.002219, z=12.125855),carla.Rotation(pitch=-22.860840, yaw=33.173634, roll=0.000728)))\n"
   ]
  },
  {
   "cell_type": "markdown",
   "metadata": {},
   "source": [
    "Add Traffic"
   ]
  },
  {
   "cell_type": "code",
   "execution_count": 23,
   "metadata": {},
   "outputs": [],
   "source": [
    "weather = carla.WeatherParameters(\n",
    "    sun_altitude_angle=-90.0\n",
    ")\n",
    "world.set_weather(weather)\n"
   ]
  },
  {
   "cell_type": "markdown",
   "metadata": {},
   "source": [
    "---------- RGB camera ----------"
   ]
  },
  {
   "cell_type": "code",
   "execution_count": null,
   "metadata": {},
   "outputs": [],
   "source": [
    "camera_trans = carla.Transform(carla.Location(z=0.1))\n",
    "\n",
    "camera_bp= world.get_blueprint_library().find('sensor.camera.rgb')\n",
    "\n",
    "rgb_camera = world.spawn_actor(camera_bp, camera_trans, attach_to=spectator)"
   ]
  },
  {
   "cell_type": "code",
   "execution_count": null,
   "metadata": {},
   "outputs": [],
   "source": [
    "rgb_camera.listen(lambda image: image.save_to_disk('rgb_output2/%06d.png' % image.frame))"
   ]
  },
  {
   "cell_type": "code",
   "execution_count": null,
   "metadata": {},
   "outputs": [],
   "source": [
    "rgb_camera.stop()"
   ]
  },
  {
   "cell_type": "markdown",
   "metadata": {},
   "source": [
    "---------- DVS camera ----------"
   ]
  },
  {
   "cell_type": "code",
   "execution_count": null,
   "metadata": {},
   "outputs": [],
   "source": [
    "camera_trans = carla.Transform(carla.Location(z=0.1))\n",
    "\n",
    "dvs_camera_bp= world.get_blueprint_library().find('sensor.camera.dvs')\n",
    "\n",
    "dvs_camera = world.spawn_actor(dvs_camera_bp, camera_trans, attach_to=spectator)"
   ]
  },
  {
   "cell_type": "code",
   "execution_count": null,
   "metadata": {},
   "outputs": [],
   "source": []
  },
  {
   "cell_type": "code",
   "execution_count": null,
   "metadata": {},
   "outputs": [],
   "source": [
    "import csv\n",
    "import numpy as np\n",
    "import time\n",
    "import cv2"
   ]
  },
  {
   "cell_type": "code",
   "execution_count": null,
   "metadata": {},
   "outputs": [],
   "source": [
    "def dvs_callback(data, dvs_output_path): # store in csv file\n",
    "    print(\"length = \",len(data))\n",
    "\n",
    "    dvs_events = np.frombuffer(data.raw_data, dtype=np.dtype([\n",
    "        ('x', np.uint16), ('y',np.uint16), ('t',np.int64), ('pol', np.bool)]))\n",
    "    with open(dvs_output_path, mode=\"a\",  newline='') as file:\n",
    "        writer = csv.writer(file)\n",
    "        # dvs_events = np.frombuffer(data.raw_data, dtype=np.dtype([\n",
    "        #     ('x', np.uint16), ('y',np.uint16), ('t',np.int64), ('pol', np.bool)]))\n",
    "        for event in dvs_events:\n",
    "            writer.writerow(event)\n",
    "        file.close()\n",
    "    "
   ]
  },
  {
   "cell_type": "code",
   "execution_count": null,
   "metadata": {},
   "outputs": [],
   "source": [
    "def dvs_callback_img(data): #store in image\n",
    "    dvs_events = np.frombuffer(data.raw_data, dtype=np.dtype([\n",
    "        ('x', np.uint16), ('y',np.uint16), ('t',np.int64), ('pol', np.bool)]))\n",
    "    # data_dict['dvs_image'] = np.zeros((data.height, data.weight, 4), dtype=np.uint8)\n",
    "    dvs_img = np.zeros((data.height, data.width, 3), dtype=np.uint8)\n",
    "    dvs_img[dvs_events[:]['y'],dvs_events[:]['x'],dvs_events[:]['pol']*2] = 255\n",
    "\n",
    "    # data_dict['dvs_image'][:,:,0:3] = dvs_img\n",
    "    # print(dvs_img)\n",
    "    # dvs_img.save_to_disk('output/%06d.png' % dvs_img.frame)\n",
    "    cv2.imshow(\"dvs_imh\", dvs_img)\n",
    "    cv2.imwrite(f'output/{data.frame}.png', dvs_img)\n",
    "    \n",
    "    "
   ]
  },
  {
   "cell_type": "code",
   "execution_count": null,
   "metadata": {},
   "outputs": [],
   "source": [
    "dvs_output_path = \"dvs_output.csv\"\n",
    "with open(dvs_output_path, mode=\"w\",  newline='') as file:\n",
    "    writer = csv.writer(file)\n",
    "    writer.writerow(['x', 'y', 't', 'pol'])\n",
    "    file.close()"
   ]
  },
  {
   "cell_type": "code",
   "execution_count": null,
   "metadata": {},
   "outputs": [],
   "source": [
    "dvs_camera.stop()"
   ]
  },
  {
   "cell_type": "code",
   "execution_count": null,
   "metadata": {},
   "outputs": [],
   "source": [
    "dvs_camera.listen(lambda DVSEventArray: dvs_callback_img(DVSEventArray))\n",
    "# time.sleep(3)\n",
    "# dvs_camera.stop()"
   ]
  },
  {
   "cell_type": "code",
   "execution_count": null,
   "metadata": {},
   "outputs": [],
   "source": [
    "dvs_camera.listen(lambda DVSEventArray: dvs_callback(DVSEventArray, dvs_output_path))\n",
    "time.sleep(3)\n",
    "dvs_camera.stop()"
   ]
  },
  {
   "cell_type": "code",
   "execution_count": null,
   "metadata": {},
   "outputs": [],
   "source": [
    "\n",
    "dvs_output_path = \"dvs_output.csv\"\n",
    "\n",
    "with open(dvs_output_path, mode=\"r\",  newline='') as file:\n",
    "    first = 0\n",
    "    second = 0\n",
    "    reader = csv.reader(file)\n",
    "    for row in reader:\n",
    "        second = int(row[2])\n",
    "        if first > second:\n",
    "            print(\"ERROR!!!\")\n",
    "            print(first, second)\n",
    "        first = int(row[2])\n",
    "    file.close()"
   ]
  }
 ],
 "metadata": {
  "kernelspec": {
   "display_name": "carla",
   "language": "python",
   "name": "python3"
  },
  "language_info": {
   "codemirror_mode": {
    "name": "ipython",
    "version": 3
   },
   "file_extension": ".py",
   "mimetype": "text/x-python",
   "name": "python",
   "nbconvert_exporter": "python",
   "pygments_lexer": "ipython3",
   "version": "3.9.18"
  }
 },
 "nbformat": 4,
 "nbformat_minor": 2
}
